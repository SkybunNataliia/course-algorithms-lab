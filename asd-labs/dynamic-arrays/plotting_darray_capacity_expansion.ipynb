{
 "cells": [
  {
   "cell_type": "markdown",
   "id": "f3b96720",
   "metadata": {},
   "source": [
    "# Plotting running times of search algoritms\n",
    "\n",
    "Basic imports"
   ]
  },
  {
   "cell_type": "code",
   "execution_count": 2,
   "id": "6fcd9ea4",
   "metadata": {},
   "outputs": [],
   "source": [
    "import matplotlib.pyplot as plt\n",
    "import numpy as np\n",
    "import matplotlib as mpl"
   ]
  },
  {
   "cell_type": "markdown",
   "id": "f47039f5",
   "metadata": {},
   "source": [
    "Let's plot how capacity evolves with different algorithms for dynamic array capacity expansion\n",
    "\n",
    "```\n",
    "\n",
    "```"
   ]
  },
  {
   "cell_type": "code",
   "execution_count": 10,
   "id": "990dfa72",
   "metadata": {},
   "outputs": [],
   "source": [
    "# this function must return an array with n*2 elements, reporting the capacity level\n",
    "# at each time step considering linear expansion, considering n appends followed by n removes\n",
    "def linear_expansion(n, dgrow = 500, dshrink = 1000):\n",
    "    arr = np.array([])\n",
    "    history = []\n",
    "    capacity = 0\n",
    "\n",
    "    # Crescita di n\n",
    "    for i in range(n):\n",
    "        if len(arr) >= capacity or (capacity - len(arr)) > dshrink:\n",
    "            capacity = len(arr) + dgrow\n",
    "            arr = np.resize(arr, capacity)\n",
    "        arr = np.append(arr, i)\n",
    "        history.append(capacity)\n",
    "\n",
    "    # Descrescita di n\n",
    "    for i in range(n):\n",
    "        if len(arr) > 0:\n",
    "            arr = arr[:-1]\n",
    "            if len(arr) < capacity - dshrink:\n",
    "                capacity = max(1, capacity - dgrow)\n",
    "            history.append(capacity)\n",
    "    \n",
    "    return history\n",
    "\n",
    "# this function must return an array with n*2 elements, reporting the capacity level\n",
    "# at each time step considering geometric expansion, considering n appends followed by n removes\n",
    "def geometric_expansion(n, fgrow = 5., fshrink = 5.5):\n",
    "    arr = np.array([])\n",
    "    history = []\n",
    "    capacity = 0\n",
    "\n",
    "    # Crescita di n\n",
    "    for i in range(n):\n",
    "        if len(arr) >= capacity or (capacity / len(arr)) > fshrink:\n",
    "            capacity = len(arr) * fgrow\n",
    "            arr = np.resize(arr, capacity)\n",
    "        arr = np.append(arr, i)\n",
    "        history.append(capacity)\n",
    "\n",
    "    # Descrescita di n\n",
    "    for i in range(n):\n",
    "        if len(arr) > 0:\n",
    "            arr = arr[:-1]\n",
    "            if len(arr) < capacity // fshrink:\n",
    "                capacity = max(1, capacity // fshrink)\n",
    "            history.append(capacity)\n",
    "\n",
    "    return history"
   ]
  },
  {
   "cell_type": "code",
   "execution_count": 11,
   "id": "b7838a2d",
   "metadata": {},
   "outputs": [
    {
     "ename": "KeyboardInterrupt",
     "evalue": "",
     "output_type": "error",
     "traceback": [
      "\u001b[1;31m---------------------------------------------------------------------------\u001b[0m",
      "\u001b[1;31mKeyboardInterrupt\u001b[0m                         Traceback (most recent call last)",
      "Cell \u001b[1;32mIn[11], line 13\u001b[0m\n\u001b[0;32m     11\u001b[0m ax1\u001b[38;5;241m.\u001b[39mset_ylabel(\u001b[38;5;124m\"\u001b[39m\u001b[38;5;124mcapacity\u001b[39m\u001b[38;5;124m\"\u001b[39m)\n\u001b[0;32m     12\u001b[0m ax1\u001b[38;5;241m.\u001b[39mset_xlabel(\u001b[38;5;124m\"\u001b[39m\u001b[38;5;124mnum of unit resize ops\u001b[39m\u001b[38;5;124m\"\u001b[39m)\n\u001b[1;32m---> 13\u001b[0m ax1\u001b[38;5;241m.\u001b[39mplot(xs, \u001b[43mlinear_expansion\u001b[49m\u001b[43m(\u001b[49m\u001b[43mn\u001b[49m\u001b[43m,\u001b[49m\u001b[43m \u001b[49m\u001b[43mdgrow\u001b[49m\u001b[43m,\u001b[49m\u001b[43m \u001b[49m\u001b[43mdshrink\u001b[49m\u001b[43m)\u001b[49m, label\u001b[38;5;241m=\u001b[39m\u001b[38;5;124mf\u001b[39m\u001b[38;5;124m\"\u001b[39m\u001b[38;5;124mlinear(dgrow=\u001b[39m\u001b[38;5;132;01m{\u001b[39;00mdgrow\u001b[38;5;132;01m}\u001b[39;00m\u001b[38;5;124m,dshrink=\u001b[39m\u001b[38;5;132;01m{\u001b[39;00mdshrink\u001b[38;5;132;01m}\u001b[39;00m\u001b[38;5;124m)\u001b[39m\u001b[38;5;124m\"\u001b[39m, color\u001b[38;5;241m=\u001b[39m\u001b[38;5;124m'\u001b[39m\u001b[38;5;124mred\u001b[39m\u001b[38;5;124m'\u001b[39m)\n\u001b[0;32m     14\u001b[0m ax1\u001b[38;5;241m.\u001b[39mplot(xs, geometric_expansion(n, fgrow, fshrink), label\u001b[38;5;241m=\u001b[39m\u001b[38;5;124mf\u001b[39m\u001b[38;5;124m\"\u001b[39m\u001b[38;5;124mgeometric(fgrow=\u001b[39m\u001b[38;5;132;01m{\u001b[39;00mfgrow\u001b[38;5;132;01m}\u001b[39;00m\u001b[38;5;124m,fshrink=\u001b[39m\u001b[38;5;132;01m{\u001b[39;00mfshrink\u001b[38;5;132;01m}\u001b[39;00m\u001b[38;5;124m)\u001b[39m\u001b[38;5;124m\"\u001b[39m, color\u001b[38;5;241m=\u001b[39m\u001b[38;5;124m'\u001b[39m\u001b[38;5;124mblue\u001b[39m\u001b[38;5;124m'\u001b[39m)\n\u001b[0;32m     15\u001b[0m ax1\u001b[38;5;241m.\u001b[39mlegend(loc\u001b[38;5;241m=\u001b[39m\u001b[38;5;124m'\u001b[39m\u001b[38;5;124mupper left\u001b[39m\u001b[38;5;124m'\u001b[39m)\n",
      "Cell \u001b[1;32mIn[10], line 13\u001b[0m, in \u001b[0;36mlinear_expansion\u001b[1;34m(n, dgrow, dshrink)\u001b[0m\n\u001b[0;32m     11\u001b[0m         capacity \u001b[38;5;241m=\u001b[39m \u001b[38;5;28mlen\u001b[39m(arr) \u001b[38;5;241m+\u001b[39m dgrow\n\u001b[0;32m     12\u001b[0m         arr \u001b[38;5;241m=\u001b[39m np\u001b[38;5;241m.\u001b[39mresize(arr, capacity)\n\u001b[1;32m---> 13\u001b[0m     arr \u001b[38;5;241m=\u001b[39m \u001b[43mnp\u001b[49m\u001b[38;5;241;43m.\u001b[39;49m\u001b[43mappend\u001b[49m\u001b[43m(\u001b[49m\u001b[43marr\u001b[49m\u001b[43m,\u001b[49m\u001b[43m \u001b[49m\u001b[43mi\u001b[49m\u001b[43m)\u001b[49m\n\u001b[0;32m     14\u001b[0m     history\u001b[38;5;241m.\u001b[39mappend(capacity)\n\u001b[0;32m     16\u001b[0m \u001b[38;5;66;03m# Descrescita di n\u001b[39;00m\n",
      "File \u001b[1;32mc:\\Users\\Nataliia\\Documents\\Algoritmi\\course-algorithms-lab\\Lib\\site-packages\\numpy\\lib\\_function_base_impl.py:5692\u001b[0m, in \u001b[0;36mappend\u001b[1;34m(arr, values, axis)\u001b[0m\n\u001b[0;32m   5690\u001b[0m     values \u001b[38;5;241m=\u001b[39m ravel(values)\n\u001b[0;32m   5691\u001b[0m     axis \u001b[38;5;241m=\u001b[39m arr\u001b[38;5;241m.\u001b[39mndim\u001b[38;5;241m-\u001b[39m\u001b[38;5;241m1\u001b[39m\n\u001b[1;32m-> 5692\u001b[0m \u001b[38;5;28;01mreturn\u001b[39;00m \u001b[43mconcatenate\u001b[49m\u001b[43m(\u001b[49m\u001b[43m(\u001b[49m\u001b[43marr\u001b[49m\u001b[43m,\u001b[49m\u001b[43m \u001b[49m\u001b[43mvalues\u001b[49m\u001b[43m)\u001b[49m\u001b[43m,\u001b[49m\u001b[43m \u001b[49m\u001b[43maxis\u001b[49m\u001b[38;5;241;43m=\u001b[39;49m\u001b[43maxis\u001b[49m\u001b[43m)\u001b[49m\n",
      "\u001b[1;31mKeyboardInterrupt\u001b[0m: "
     ]
    },
    {
     "data": {
      "image/png": "[encoded data removed]",
      "text/plain": [
       "<Figure size 1200x400 with 1 Axes>"
      ]
     },
     "metadata": {},
     "output_type": "display_data"
    }
   ],
   "source": [
    "n = 10000\n",
    "xs = np.arange(2*n)\n",
    "\n",
    "dgrow = 500\n",
    "dshrink = 2000\n",
    "fgrow = 2.0\n",
    "fshrink = 3.5\n",
    "fig, ax1 = plt.subplots(1, 1)\n",
    "fig.set_size_inches(12,4)\n",
    "ax1.axvline(x=n, linestyle='--')\n",
    "ax1.set_ylabel(\"capacity\")\n",
    "ax1.set_xlabel(\"num of unit resize ops\")\n",
    "ax1.plot(xs, linear_expansion(n, dgrow, dshrink), label=f\"linear(dgrow={dgrow},dshrink={dshrink})\", color='red')\n",
    "ax1.plot(xs, geometric_expansion(n, fgrow, fshrink), label=f\"geometric(fgrow={fgrow},fshrink={fshrink})\", color='blue')\n",
    "ax1.legend(loc='upper left')\n",
    "fig.show()"
   ]
  }
 ],
 "metadata": {
  "jupytext": {
   "formats": "ipynb,md"
  },
  "kernelspec": {
   "display_name": "course-algorithms-lab",
   "language": "python",
   "name": "python3"
  },
  "language_info": {
   "codemirror_mode": {
    "name": "ipython",
    "version": 3
   },
   "file_extension": ".py",
   "mimetype": "text/x-python",
   "name": "python",
   "nbconvert_exporter": "python",
   "pygments_lexer": "ipython3",
   "version": "3.12.6"
  }
 },
 "nbformat": 4,
 "nbformat_minor": 5
}
